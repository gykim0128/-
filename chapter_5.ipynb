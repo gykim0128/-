{
  "nbformat": 4,
  "nbformat_minor": 0,
  "metadata": {
    "colab": {
      "name": "chapter 5.ipynb",
      "provenance": [],
      "collapsed_sections": []
    },
    "kernelspec": {
      "name": "python3",
      "display_name": "Python 3"
    }
  },
  "cells": [
    {
      "cell_type": "markdown",
      "metadata": {
        "id": "q8jIEdoRug8N",
        "colab_type": "text"
      },
      "source": [
        "# 5장 과제<br>\n",
        "## Q1"
      ]
    },
    {
      "cell_type": "markdown",
      "metadata": {
        "id": "-rC4gsYGuvyz",
        "colab_type": "text"
      },
      "source": [
        "다음은 Calculator 클래스이다.\n",
        "\n",
        "class Calculator:\n",
        "\n",
        "    def __init__(self):\n",
        "        self.value = 0\n",
        "\n",
        "    def add(self, val):\n",
        "        self.value += val\n",
        "위 클래스를 상속하는 UpgradeCalculator를 만들고 값을 뺄 수 있는 minus 메서드를 추가해 보자. 즉 다음과 같이 동작하는 클래스를 만들어야 한다.<br>\n",
        "\n",
        "cal = UpgradeCalculator()<br>\n",
        "cal.add(10)<br>\n",
        "cal.minus(7)<br>\n",
        "\n",
        "print(cal.value) # 10에서 7을 뺀 3을 출력"
      ]
    },
    {
      "cell_type": "code",
      "metadata": {
        "id": "4XP8r7LdugEN",
        "colab_type": "code",
        "colab": {}
      },
      "source": [
        "class Calculator:\n",
        "    def __init__(self):\n",
        "        self.value = 0\n",
        "\n",
        "    def add(self, val):\n",
        "        self.value += val"
      ],
      "execution_count": 0,
      "outputs": []
    },
    {
      "cell_type": "code",
      "metadata": {
        "id": "XBqIX_GOvCKu",
        "colab_type": "code",
        "colab": {}
      },
      "source": [
        "class UpgradeCalculator(Calculator):\n",
        "    def minus(self, val):\n",
        "        self.value -= val"
      ],
      "execution_count": 0,
      "outputs": []
    },
    {
      "cell_type": "markdown",
      "metadata": {
        "id": "i7Qa6bAewBnN",
        "colab_type": "text"
      },
      "source": [
        "## Q2"
      ]
    },
    {
      "cell_type": "markdown",
      "metadata": {
        "id": "qTeaCGlNwGw7",
        "colab_type": "text"
      },
      "source": [
        "객체변수 value가 100 이상의 값은 가질 수 없도록 제한하는 MaxLimitCalculator 클래스를 만들어 보자. 즉 다음과 같이 동작해야 한다.\n",
        "\n",
        "cal = MaxLimitCalculator()\n",
        "\n",
        "cal.add(50) # 50 더하기\n",
        "\n",
        "cal.add(60) # 60 더하기\n",
        "\n",
        "print(cal.value) # 100 출력\n",
        "단 반드시 다음과 같은 Calculator 클래스를 상속해서 만들어야 한다.\n",
        "\n",
        "\n",
        "class Calculator:\n",
        "\n",
        "    def __init__(self):\n",
        "        self.value = 0\n",
        "\n",
        "    def add(self, val):\n",
        "        self.value += val"
      ]
    },
    {
      "cell_type": "code",
      "metadata": {
        "id": "FNJcjBBOvSEd",
        "colab_type": "code",
        "colab": {}
      },
      "source": [
        "class MaxLimitCalculator:\n",
        "    def __init__(self):\n",
        "        self.value = 0\n",
        "\n",
        "    def add(self, val):\n",
        "        self.value += val\n",
        "        if self.value > 100:\n",
        "            self.value = \"100이상의 값은 가질 수 없습니다\"   \n",
        "        return self.value"
      ],
      "execution_count": 0,
      "outputs": []
    },
    {
      "cell_type": "code",
      "metadata": {
        "id": "P6U14t02wmW2",
        "colab_type": "code",
        "colab": {}
      },
      "source": [
        "a1= MaxLimitCalculator()"
      ],
      "execution_count": 0,
      "outputs": []
    },
    {
      "cell_type": "code",
      "metadata": {
        "id": "T1U5ESUVw1gF",
        "colab_type": "code",
        "colab": {
          "base_uri": "https://localhost:8080/",
          "height": 35
        },
        "outputId": "4d6c98a4-b15d-4877-af16-5957182c12a3"
      },
      "source": [
        "a1.add(50)"
      ],
      "execution_count": 12,
      "outputs": [
        {
          "output_type": "execute_result",
          "data": {
            "text/plain": [
              "50"
            ]
          },
          "metadata": {
            "tags": []
          },
          "execution_count": 12
        }
      ]
    },
    {
      "cell_type": "code",
      "metadata": {
        "id": "e8KrQv-Nw7Qd",
        "colab_type": "code",
        "colab": {
          "base_uri": "https://localhost:8080/",
          "height": 35
        },
        "outputId": "4e7c7dde-1454-425f-94f2-a1025dd97013"
      },
      "source": [
        "a1.add(60)"
      ],
      "execution_count": 13,
      "outputs": [
        {
          "output_type": "execute_result",
          "data": {
            "text/plain": [
              "'100이상의 값은 가질 수 없습니다'"
            ]
          },
          "metadata": {
            "tags": []
          },
          "execution_count": 13
        }
      ]
    },
    {
      "cell_type": "markdown",
      "metadata": {
        "id": "59h_5sFOxc4o",
        "colab_type": "text"
      },
      "source": [
        "## Q3"
      ]
    },
    {
      "cell_type": "markdown",
      "metadata": {
        "id": "i_gMZ61BxfGE",
        "colab_type": "text"
      },
      "source": [
        "하나.\n",
        "\n",
        ">>> all([1, 2, abs(-3)-3])\n",
        "둘.\n",
        "\n",
        ">>> chr(ord('a')) == 'a'"
      ]
    },
    {
      "cell_type": "markdown",
      "metadata": {
        "id": "3LMeZgSNxvec",
        "colab_type": "text"
      },
      "source": [
        "하나. abs 내장함수는 절대값을 나타내어 줌으로 abs(-3)은 3이되고 거기에 -3을 해주었음으로 0이 된다. all 내장함수는 모든 인수가 참이면 True가 나타나고 하나라도 거짓이 있으면 False를 나타내어주는데 0은 거짓임으로 False가 나타날 것이다.<br>\n",
        "ord 내장함수는 문자의 아스키 코드 값을 돌려주는 함수이고 chr함수는 이와 반대로 아스키 코드의 값을 문자로 나타내는 함수임으로 그대로 a가 나타나고 True가 나올것이다."
      ]
    },
    {
      "cell_type": "code",
      "metadata": {
        "id": "PNsD8jM6xWI9",
        "colab_type": "code",
        "colab": {
          "base_uri": "https://localhost:8080/",
          "height": 35
        },
        "outputId": "ab128148-b502-4c0f-d539-f9b65e979b09"
      },
      "source": [
        "all([1, 2, abs(-3)-3])"
      ],
      "execution_count": 14,
      "outputs": [
        {
          "output_type": "execute_result",
          "data": {
            "text/plain": [
              "False"
            ]
          },
          "metadata": {
            "tags": []
          },
          "execution_count": 14
        }
      ]
    },
    {
      "cell_type": "code",
      "metadata": {
        "id": "UlM-Vle_yYK-",
        "colab_type": "code",
        "colab": {
          "base_uri": "https://localhost:8080/",
          "height": 35
        },
        "outputId": "b765b9d1-6568-4825-a671-420309820f79"
      },
      "source": [
        "chr(ord('a')) == 'a'"
      ],
      "execution_count": 15,
      "outputs": [
        {
          "output_type": "execute_result",
          "data": {
            "text/plain": [
              "True"
            ]
          },
          "metadata": {
            "tags": []
          },
          "execution_count": 15
        }
      ]
    },
    {
      "cell_type": "markdown",
      "metadata": {
        "id": "98a_j-5Uyadw",
        "colab_type": "text"
      },
      "source": [
        "## Q4"
      ]
    },
    {
      "cell_type": "markdown",
      "metadata": {
        "id": "rKoQxy3UygD1",
        "colab_type": "text"
      },
      "source": [
        "234라는 10진수의 16진수는 다음과 같이 구할 수 있다.\n",
        "\n",
        "hex(234)<br>\n",
        "'0xea'<br>\n",
        "이번에는 반대로 16진수 문자열 0xea를 10진수로 변경해 보자.\n",
        "\n",
        "※ 내장 함수 int를 활용해 보자."
      ]
    },
    {
      "cell_type": "code",
      "metadata": {
        "id": "A_LWRXqYyZZN",
        "colab_type": "code",
        "colab": {
          "base_uri": "https://localhost:8080/",
          "height": 35
        },
        "outputId": "4af0ba14-09a0-42ae-8517-d89c032583dc"
      },
      "source": [
        "int(' 0xea', 16)"
      ],
      "execution_count": 16,
      "outputs": [
        {
          "output_type": "execute_result",
          "data": {
            "text/plain": [
              "234"
            ]
          },
          "metadata": {
            "tags": []
          },
          "execution_count": 16
        }
      ]
    },
    {
      "cell_type": "markdown",
      "metadata": {
        "id": "NMWaifFYyyLw",
        "colab_type": "text"
      },
      "source": [
        "## Q6\n",
        "\n",
        "map과 lambda를 사용하여 [1, 2, 3, 4] 리스트의 각 요솟값에 3이 곱해진 리스트 [3, 6, 9, 12]를 만들어 보자."
      ]
    },
    {
      "cell_type": "code",
      "metadata": {
        "id": "yf9kYQdQywxS",
        "colab_type": "code",
        "colab": {
          "base_uri": "https://localhost:8080/",
          "height": 35
        },
        "outputId": "8a9c48aa-5454-44d1-c11b-228fa45dc6ba"
      },
      "source": [
        "list(map(lambda a: a*3, [1, 2, 3, 4]))"
      ],
      "execution_count": 17,
      "outputs": [
        {
          "output_type": "execute_result",
          "data": {
            "text/plain": [
              "[3, 6, 9, 12]"
            ]
          },
          "metadata": {
            "tags": []
          },
          "execution_count": 17
        }
      ]
    },
    {
      "cell_type": "markdown",
      "metadata": {
        "id": "PPu7lEnvziLA",
        "colab_type": "text"
      },
      "source": [
        "## Q7\n",
        "\n",
        "다음 리스트의 최댓값과 최솟값의 합을 구해 보자.\n",
        "\n",
        "[-8, 2, 7, 5, -3, 5, 0, 1]"
      ]
    },
    {
      "cell_type": "code",
      "metadata": {
        "id": "cazR-7KIzTz1",
        "colab_type": "code",
        "colab": {}
      },
      "source": [
        "a=[-8, 2, 7, 5, -3, 5, 0, 1]\n"
      ],
      "execution_count": 0,
      "outputs": []
    },
    {
      "cell_type": "code",
      "metadata": {
        "id": "r4mPToTLzsmV",
        "colab_type": "code",
        "colab": {
          "base_uri": "https://localhost:8080/",
          "height": 35
        },
        "outputId": "25afa273-0520-4cba-b224-89ab207cea21"
      },
      "source": [
        "max(a)+min(a)"
      ],
      "execution_count": 19,
      "outputs": [
        {
          "output_type": "execute_result",
          "data": {
            "text/plain": [
              "-1"
            ]
          },
          "metadata": {
            "tags": []
          },
          "execution_count": 19
        }
      ]
    },
    {
      "cell_type": "markdown",
      "metadata": {
        "id": "UCXcfsuhzyCT",
        "colab_type": "text"
      },
      "source": [
        "## Q8\n",
        "\n",
        "17 / 3의 결과는 다음과 같다.\n",
        "\n",
        "17 / 3\n",
        "\n",
        "5.666666666666667\n",
        "\n",
        "위와 같은 결괏값 5.666666666666667을 소숫점 4자리까지만 반올림하여 표시해 보자."
      ]
    },
    {
      "cell_type": "code",
      "metadata": {
        "id": "IkhyH4DH0Css",
        "colab_type": "code",
        "colab": {}
      },
      "source": [
        "a=17/3"
      ],
      "execution_count": 0,
      "outputs": []
    },
    {
      "cell_type": "code",
      "metadata": {
        "id": "qnZd7WXj0PFk",
        "colab_type": "code",
        "colab": {
          "base_uri": "https://localhost:8080/",
          "height": 35
        },
        "outputId": "201c96a4-4cad-42cf-db6e-51be4522d36f"
      },
      "source": [
        "round(a, 4)"
      ],
      "execution_count": 22,
      "outputs": [
        {
          "output_type": "execute_result",
          "data": {
            "text/plain": [
              "5.6667"
            ]
          },
          "metadata": {
            "tags": []
          },
          "execution_count": 22
        }
      ]
    },
    {
      "cell_type": "markdown",
      "metadata": {
        "id": "wuJCVTQJ0WgD",
        "colab_type": "text"
      },
      "source": [
        "## Q9\n",
        "\n",
        "다음과 같이 실행할 때 입력값을 모두 더하여 출력하는 스크립트(C:\\doit\\myargv.py)를 작성해 보자.\n",
        "\n",
        "C:\\> cd doit\n",
        "\n",
        "C:\\doit> python myargv.py 1 2 3 4 5 6 7 8 9 10\n",
        "\n",
        "55\n",
        "\n",
        "※ 외장 함수 sys.argv를 사용해 보자."
      ]
    },
    {
      "cell_type": "code",
      "metadata": {
        "id": "FyE99jUd0VS8",
        "colab_type": "code",
        "colab": {
          "base_uri": "https://localhost:8080/",
          "height": 35
        },
        "outputId": "a6da1e9f-9dac-46ad-eeaf-7984b4a4098c"
      },
      "source": [
        "%%writefile myargv.py\n",
        "import sys\n",
        "\n",
        "numbers = sys.argv[1:]\n",
        "\n",
        "result = 0\n",
        "for number in numbers:\n",
        "    result += int(number)\n",
        "print(result)"
      ],
      "execution_count": 74,
      "outputs": [
        {
          "output_type": "stream",
          "text": [
            "Overwriting myargv.py\n"
          ],
          "name": "stdout"
        }
      ]
    },
    {
      "cell_type": "markdown",
      "metadata": {
        "id": "rqMHTEIo8JOw",
        "colab_type": "text"
      },
      "source": [
        "## Q10\n",
        "\n",
        "os 모듈을 사용하여 다음과 같이 동작하도록 코드를 작성해 보자.\n",
        "\n",
        "C:\\doit 디렉터리로 이동한다.\n",
        "dir 명령을 실행하고 그 결과를 변수에 담는다.\n",
        "dir 명령의 결과를 출력한다."
      ]
    },
    {
      "cell_type": "code",
      "metadata": {
        "id": "71P-GZeB7IXw",
        "colab_type": "code",
        "colab": {}
      },
      "source": [
        "import os\n",
        "os.chdir(\"/content\")"
      ],
      "execution_count": 0,
      "outputs": []
    },
    {
      "cell_type": "code",
      "metadata": {
        "id": "JHSK2RVQ8QNQ",
        "colab_type": "code",
        "colab": {}
      },
      "source": [
        "result = os.popen(\"dir\")"
      ],
      "execution_count": 0,
      "outputs": []
    },
    {
      "cell_type": "code",
      "metadata": {
        "id": "nbRUA8-YAcSF",
        "colab_type": "code",
        "colab": {
          "base_uri": "https://localhost:8080/",
          "height": 53
        },
        "outputId": "45ac73b1-5424-46a7-f7ae-751004e249b7"
      },
      "source": [
        "print(result.read())"
      ],
      "execution_count": 44,
      "outputs": [
        {
          "output_type": "stream",
          "text": [
            "myargv.py  __pycache__\tsample_data\n",
            "\n"
          ],
          "name": "stdout"
        }
      ]
    },
    {
      "cell_type": "markdown",
      "metadata": {
        "id": "rGJrE3TKAovo",
        "colab_type": "text"
      },
      "source": [
        "## Q11\n",
        "\n",
        "glob 모듈을 사용하여 C:\\doit 디렉터리의 파일 중 확장자가 .py인 파일만 출력하는 프로그램을 작성해 보자."
      ]
    },
    {
      "cell_type": "code",
      "metadata": {
        "id": "sFEzGhw6Ak1O",
        "colab_type": "code",
        "colab": {
          "base_uri": "https://localhost:8080/",
          "height": 35
        },
        "outputId": "095b7bc0-0fa1-47b4-ca57-cad3464e0c5a"
      },
      "source": [
        "import glob\n",
        "glob.glob(\"/content/*.py\")"
      ],
      "execution_count": 45,
      "outputs": [
        {
          "output_type": "execute_result",
          "data": {
            "text/plain": [
              "['/content/myargv.py']"
            ]
          },
          "metadata": {
            "tags": []
          },
          "execution_count": 45
        }
      ]
    },
    {
      "cell_type": "markdown",
      "metadata": {
        "id": "gHW9bWJXA99L",
        "colab_type": "text"
      },
      "source": [
        "## Q12\n",
        "\n",
        "time 모듈을 사용하여 현재 날짜와 시간을 다음과 같은 형식으로 출력해 보자."
      ]
    },
    {
      "cell_type": "code",
      "metadata": {
        "id": "EdVoHw7eA4O3",
        "colab_type": "code",
        "colab": {
          "base_uri": "https://localhost:8080/",
          "height": 35
        },
        "outputId": "1f6e2e25-626d-4b41-9d79-23f2e5e69eec"
      },
      "source": [
        "import time\n",
        "time.strftime(\"%Y/%m/%d %H:%M:%S\") "
      ],
      "execution_count": 46,
      "outputs": [
        {
          "output_type": "execute_result",
          "data": {
            "text/plain": [
              "'2019/10/09 10:15:24'"
            ]
          },
          "metadata": {
            "tags": []
          },
          "execution_count": 46
        }
      ]
    },
    {
      "cell_type": "markdown",
      "metadata": {
        "id": "FEbPumnXBGJQ",
        "colab_type": "text"
      },
      "source": [
        "## Q13\n",
        "\n",
        "random 모듈을 사용하여 로또 번호(1~45 사이의 숫자 6개)를 생성해 보자(단 중복된 숫자가 있으면 안 됨)."
      ]
    },
    {
      "cell_type": "code",
      "metadata": {
        "id": "_40Bi990BCV_",
        "colab_type": "code",
        "colab": {
          "base_uri": "https://localhost:8080/",
          "height": 35
        },
        "outputId": "b0d0d45c-55b4-498d-e40f-e15fc563148a"
      },
      "source": [
        "import random\n",
        "\n",
        "result = []\n",
        "while len(result) < 6:\n",
        "    num = random.randint(1, 45)\n",
        "    if num not in result:\n",
        "        result.append(num)\n",
        "\n",
        "print(result)"
      ],
      "execution_count": 47,
      "outputs": [
        {
          "output_type": "stream",
          "text": [
            "[15, 16, 6, 7, 10, 20]\n"
          ],
          "name": "stdout"
        }
      ]
    },
    {
      "cell_type": "code",
      "metadata": {
        "id": "IlX0LPaMBMmH",
        "colab_type": "code",
        "colab": {}
      },
      "source": [
        ""
      ],
      "execution_count": 0,
      "outputs": []
    }
  ]
}