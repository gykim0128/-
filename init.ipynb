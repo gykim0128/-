{
  "nbformat": 4,
  "nbformat_minor": 0,
  "metadata": {
    "colab": {
      "name": "init.ipynb",
      "provenance": []
    },
    "kernelspec": {
      "name": "python3",
      "display_name": "Python 3"
    }
  },
  "cells": [
    {
      "cell_type": "code",
      "metadata": {
        "id": "iTO_pli-G9BG",
        "colab_type": "code",
        "colab": {}
      },
      "source": [
        "\n",
        "\n"
      ],
      "execution_count": 0,
      "outputs": []
    },
    {
      "cell_type": "markdown",
      "metadata": {
        "id": "3EH-29uGHeOE",
        "colab_type": "text"
      },
      "source": [
        "__init__.py 파일은 해당 디렉터리가 패키지의 일부임을 알려주는 역할을 한다\n",
        "\n",
        "3버전 이전에는 game, sound, graphic 등 패키지에 포함된 디렉터리에 __init__.py 파일이 없다면 패키지로 인식되지 않았으나 3.3 버전부터는 __init__.py 파일이 없어도 패키지로 인식한다(PEP 420). 하지만 하위 버전 호환을 위해 __init__.py 파일을 생성하는 것이 안전한 방법이다.\n",
        "\n",
        "__init__은 파이썬에서 쓰이는 생성자이다.\n"
      ]
    },
    {
      "cell_type": "markdown",
      "metadata": {
        "id": "v_VTSW3lKQq7",
        "colab_type": "text"
      },
      "source": [
        "파이썬에서 특별하게 약속된 메서드 가운데 하나로, 초기화(initialize) 메서드라고도 한다."
      ]
    },
    {
      "cell_type": "code",
      "metadata": {
        "id": "L0wu5JfrJ8eF",
        "colab_type": "code",
        "colab": {}
      },
      "source": [
        "class Book:\n",
        "\n",
        "    def setData(self, title, price, author):\n",
        "        self.title = title\n",
        "        self.price = price\n",
        "        self.author = author\n",
        "\n",
        "    def printData(self):\n",
        "        print( '제목 : ', self.title)\n",
        "        print( '가격 : ', self.price)\n",
        "        print( '저자 : ', self.author)\n",
        "\n",
        "    def __init__(self):\n",
        "        print ('init')"
      ],
      "execution_count": 0,
      "outputs": []
    },
    {
      "cell_type": "markdown",
      "metadata": {
        "id": "wPg6GbTqKqJv",
        "colab_type": "text"
      },
      "source": [
        "이러한 class를 만들었을때"
      ]
    },
    {
      "cell_type": "code",
      "metadata": {
        "id": "8lTLAUKiKe5N",
        "colab_type": "code",
        "colab": {
          "base_uri": "https://localhost:8080/",
          "height": 35
        },
        "outputId": "177e556f-e572-42c1-9a73-52cad6623e7a"
      },
      "source": [
        "b=Book()"
      ],
      "execution_count": 13,
      "outputs": [
        {
          "output_type": "stream",
          "text": [
            "init\n"
          ],
          "name": "stdout"
        }
      ]
    },
    {
      "cell_type": "markdown",
      "metadata": {
        "id": "xao_YKC5LW_q",
        "colab_type": "text"
      },
      "source": [
        "입력한 값이 없을때는 책 객체를 새로 만들었을때는 아무것도 없기때문에 init로 표시되어진다."
      ]
    },
    {
      "cell_type": "code",
      "metadata": {
        "id": "bMOQNaljKy0U",
        "colab_type": "code",
        "colab": {
          "base_uri": "https://localhost:8080/",
          "height": 71
        },
        "outputId": "70ea9e89-b8e7-411d-a115-008e20e565d2"
      },
      "source": [
        ">>> b.setData('누가 내 치즈를 먹었을까', '300원', '미키')\n",
        ">>> b.printData()"
      ],
      "execution_count": 15,
      "outputs": [
        {
          "output_type": "stream",
          "text": [
            "제목 :  누가 내 치즈를 먹었을까\n",
            "가격 :  300원\n",
            "저자 :  미키\n"
          ],
          "name": "stdout"
        }
      ]
    },
    {
      "cell_type": "markdown",
      "metadata": {
        "id": "nCs_g3jlLr2X",
        "colab_type": "text"
      },
      "source": [
        "지정하여 준다면 지정한 데로 나오는데 초기의 데이터를 init로 나오도록 한것에서 변화시킨 것이다. 초기의 값을 지정하여 주는 것과 같다."
      ]
    },
    {
      "cell_type": "code",
      "metadata": {
        "id": "_H9ddxuZLoLt",
        "colab_type": "code",
        "colab": {}
      },
      "source": [
        ""
      ],
      "execution_count": 0,
      "outputs": []
    },
    {
      "cell_type": "code",
      "metadata": {
        "id": "vFCNzv2JL1g8",
        "colab_type": "code",
        "colab": {}
      },
      "source": [
        ""
      ],
      "execution_count": 0,
      "outputs": []
    }
  ]
}