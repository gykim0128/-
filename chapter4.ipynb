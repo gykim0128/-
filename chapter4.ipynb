{
  "nbformat": 4,
  "nbformat_minor": 0,
  "metadata": {
    "colab": {
      "name": "chapter4.ipynb",
      "provenance": [],
      "toc_visible": true
    },
    "kernelspec": {
      "name": "python3",
      "display_name": "Python 3"
    }
  },
  "cells": [
    {
      "cell_type": "markdown",
      "metadata": {
        "id": "0vmGe7zc7_2F",
        "colab_type": "text"
      },
      "source": [
        "# 5장 과제<br>\n",
        "## Q1\n"
      ]
    },
    {
      "cell_type": "code",
      "metadata": {
        "id": "ST6ZSCEl6wBl",
        "colab_type": "code",
        "colab": {}
      },
      "source": [
        "def is_odd(number):\n",
        "    if number % 2 == 1:\n",
        "        return True\n",
        "    else:\n",
        "        return False"
      ],
      "execution_count": 0,
      "outputs": []
    },
    {
      "cell_type": "code",
      "metadata": {
        "id": "q8X69ZLa7oAI",
        "colab_type": "code",
        "colab": {
          "base_uri": "https://localhost:8080/",
          "height": 35
        },
        "outputId": "e55b04f4-f1b5-402d-f18d-6ecb1ceb194e"
      },
      "source": [
        "is_odd(4)"
      ],
      "execution_count": 18,
      "outputs": [
        {
          "output_type": "execute_result",
          "data": {
            "text/plain": [
              "False"
            ]
          },
          "metadata": {
            "tags": []
          },
          "execution_count": 18
        }
      ]
    },
    {
      "cell_type": "markdown",
      "metadata": {
        "id": "ORN3Gntx8fiw",
        "colab_type": "text"
      },
      "source": [
        "## Q2"
      ]
    },
    {
      "cell_type": "code",
      "metadata": {
        "id": "w4uN1Ekq8gzv",
        "colab_type": "code",
        "colab": {}
      },
      "source": [
        "def average(*args):\n",
        "    result = 0\n",
        "    for i in args:\n",
        "        result += i\n",
        "    return result / len(args)"
      ],
      "execution_count": 0,
      "outputs": []
    },
    {
      "cell_type": "code",
      "metadata": {
        "id": "T-n6-8MBBcw7",
        "colab_type": "code",
        "colab": {
          "base_uri": "https://localhost:8080/",
          "height": 35
        },
        "outputId": "a1ddf75a-562e-460a-87c4-461c08a7e416"
      },
      "source": [
        "average(95,75,80,85)"
      ],
      "execution_count": 20,
      "outputs": [
        {
          "output_type": "execute_result",
          "data": {
            "text/plain": [
              "83.75"
            ]
          },
          "metadata": {
            "tags": []
          },
          "execution_count": 20
        }
      ]
    },
    {
      "cell_type": "code",
      "metadata": {
        "id": "yp7PLnFRJ4DF",
        "colab_type": "code",
        "colab": {}
      },
      "source": [
        ""
      ],
      "execution_count": 0,
      "outputs": []
    },
    {
      "cell_type": "markdown",
      "metadata": {
        "id": "Ua2eZUmfJ5_H",
        "colab_type": "text"
      },
      "source": [
        "## Q3"
      ]
    },
    {
      "cell_type": "code",
      "metadata": {
        "id": "tQzCXBnRJ7en",
        "colab_type": "code",
        "colab": {
          "base_uri": "https://localhost:8080/",
          "height": 71
        },
        "outputId": "4b1a6cdb-b6e7-4c4b-9f5a-baf3c699a981"
      },
      "source": [
        "input1 = input(\"첫번째 숫자를 입력하세요:\")\n",
        "input2 = input(\"두번째 숫자를 입력하세요:\")\n",
        "\n",
        "total = int(input1) + int(input2)\n",
        "print(\"두 수의 합은 %s 입니다\" % total)"
      ],
      "execution_count": 22,
      "outputs": [
        {
          "output_type": "stream",
          "text": [
            "첫번째 숫자를 입력하세요:3\n",
            "두번째 숫자를 입력하세요:6\n",
            "두 수의 합은 9 입니다\n"
          ],
          "name": "stdout"
        }
      ]
    },
    {
      "cell_type": "code",
      "metadata": {
        "id": "sE6CNiYsKC-3",
        "colab_type": "code",
        "colab": {}
      },
      "source": [
        ""
      ],
      "execution_count": 0,
      "outputs": []
    },
    {
      "cell_type": "markdown",
      "metadata": {
        "id": "aqpamgsJKRJk",
        "colab_type": "text"
      },
      "source": [
        "## Q4"
      ]
    },
    {
      "cell_type": "code",
      "metadata": {
        "id": "8tCyfqwTKSjX",
        "colab_type": "code",
        "colab": {
          "base_uri": "https://localhost:8080/",
          "height": 35
        },
        "outputId": "f58092c1-c35b-4ea6-8d2e-5b2a7e763381"
      },
      "source": [
        "print(\"you\" \"need\" \"python\")"
      ],
      "execution_count": 23,
      "outputs": [
        {
          "output_type": "stream",
          "text": [
            "youneedpython\n"
          ],
          "name": "stdout"
        }
      ]
    },
    {
      "cell_type": "code",
      "metadata": {
        "id": "Vk6gA_8GKV6v",
        "colab_type": "code",
        "colab": {
          "base_uri": "https://localhost:8080/",
          "height": 35
        },
        "outputId": "1ffdb762-e528-41e2-db4a-7292b02b2e1e"
      },
      "source": [
        "print(\"you\"+\"need\"+\"python\")"
      ],
      "execution_count": 24,
      "outputs": [
        {
          "output_type": "stream",
          "text": [
            "youneedpython\n"
          ],
          "name": "stdout"
        }
      ]
    },
    {
      "cell_type": "code",
      "metadata": {
        "id": "GkR8FcbxKYvg",
        "colab_type": "code",
        "colab": {
          "base_uri": "https://localhost:8080/",
          "height": 35
        },
        "outputId": "6b9d30c2-a473-4c48-9de3-4545a14536a6"
      },
      "source": [
        "print(\"you\", \"need\", \"python\")"
      ],
      "execution_count": 25,
      "outputs": [
        {
          "output_type": "stream",
          "text": [
            "you need python\n"
          ],
          "name": "stdout"
        }
      ]
    },
    {
      "cell_type": "code",
      "metadata": {
        "id": "AtG-ScV9Ka3n",
        "colab_type": "code",
        "colab": {
          "base_uri": "https://localhost:8080/",
          "height": 35
        },
        "outputId": "510a8cb1-c55c-448c-946f-e525d744c3fd"
      },
      "source": [
        "print(\"\".join([\"you\", \"need\", \"python\"]))"
      ],
      "execution_count": 26,
      "outputs": [
        {
          "output_type": "stream",
          "text": [
            "youneedpython\n"
          ],
          "name": "stdout"
        }
      ]
    },
    {
      "cell_type": "code",
      "metadata": {
        "id": "A8MIhGEWKdJX",
        "colab_type": "code",
        "colab": {}
      },
      "source": [
        ""
      ],
      "execution_count": 0,
      "outputs": []
    },
    {
      "cell_type": "markdown",
      "metadata": {
        "id": "_B6iyXBTKeLa",
        "colab_type": "text"
      },
      "source": [
        "3번쨰 것만 띄어쓰기가 포함되어 다르게 나온다 "
      ]
    },
    {
      "cell_type": "code",
      "metadata": {
        "id": "vXCTLmJrKjmy",
        "colab_type": "code",
        "colab": {}
      },
      "source": [
        ""
      ],
      "execution_count": 0,
      "outputs": []
    },
    {
      "cell_type": "markdown",
      "metadata": {
        "id": "XBOu83eKKx_O",
        "colab_type": "text"
      },
      "source": [
        "## Q5"
      ]
    },
    {
      "cell_type": "code",
      "metadata": {
        "id": "v6hoLfb0Kzq_",
        "colab_type": "code",
        "colab": {
          "base_uri": "https://localhost:8080/",
          "height": 35
        },
        "outputId": "b03b49a4-c3c0-440c-98f8-6f12a57a2ae4"
      },
      "source": [
        "f1 = open(\"test.txt\", 'w')\n",
        "f1.write(\"Life is too short\")\n",
        "\n",
        "f2 = open(\"test.txt\", 'r')\n",
        "print(f2.read())"
      ],
      "execution_count": 27,
      "outputs": [
        {
          "output_type": "stream",
          "text": [
            "\n"
          ],
          "name": "stdout"
        }
      ]
    },
    {
      "cell_type": "markdown",
      "metadata": {
        "id": "l8j2M25SK8ON",
        "colab_type": "text"
      },
      "source": [
        "제일아래에 close가 포함되어 있지 않아 나타나지 않는다."
      ]
    },
    {
      "cell_type": "code",
      "metadata": {
        "id": "nx5rR8x2K0T_",
        "colab_type": "code",
        "colab": {
          "base_uri": "https://localhost:8080/",
          "height": 35
        },
        "outputId": "c26fd81b-ef50-4b8b-85d2-80e199b90db0"
      },
      "source": [
        "f1 = open(\"test.txt\", 'w')\n",
        "f1.write(\"Life is too short\")\n",
        "\n",
        "f2 = open(\"test.txt\", 'r')\n",
        "print(f2.read())"
      ],
      "execution_count": 28,
      "outputs": [
        {
          "output_type": "stream",
          "text": [
            "Life is too short\n"
          ],
          "name": "stdout"
        }
      ]
    },
    {
      "cell_type": "markdown",
      "metadata": {
        "id": "uhNZoDklPbZI",
        "colab_type": "text"
      },
      "source": [
        "## Q6"
      ]
    },
    {
      "cell_type": "code",
      "metadata": {
        "id": "fJ8qCi02K_yH",
        "colab_type": "code",
        "colab": {
          "base_uri": "https://localhost:8080/",
          "height": 35
        },
        "outputId": "fb9c2d51-d088-43e3-e4d6-f47aaac0ebe9"
      },
      "source": [
        "user_input = input(\"저장할 내용을 입력하세요:\")\n",
        "f = open('write.txt', 'a') \n",
        "f.write(user_input)\n",
        "f.write(\"\\n\")        \n",
        "f.close()"
      ],
      "execution_count": 30,
      "outputs": [
        {
          "output_type": "stream",
          "text": [
            "저장할 내용을 입력하세요:a\n"
          ],
          "name": "stdout"
        }
      ]
    },
    {
      "cell_type": "code",
      "metadata": {
        "id": "TmoffrgrPfHs",
        "colab_type": "code",
        "colab": {}
      },
      "source": [
        ""
      ],
      "execution_count": 0,
      "outputs": []
    },
    {
      "cell_type": "markdown",
      "metadata": {
        "id": "aVX1GL9UPtt-",
        "colab_type": "text"
      },
      "source": [
        "## Q7"
      ]
    },
    {
      "cell_type": "code",
      "metadata": {
        "id": "k8ihulj1PuoP",
        "colab_type": "code",
        "colab": {}
      },
      "source": [
        "with open(\"file.txt\", \"w\") as f:\n",
        "    f.write(\"Life is too short you need java\")"
      ],
      "execution_count": 0,
      "outputs": []
    },
    {
      "cell_type": "code",
      "metadata": {
        "id": "cvzEZsECQAZY",
        "colab_type": "code",
        "colab": {
          "base_uri": "https://localhost:8080/",
          "height": 35
        },
        "outputId": "2988278e-cf76-4448-86ff-adc8f74d657a"
      },
      "source": [
        "f = open('file.txt', 'r')\n",
        "body = f.read()\n",
        "f.close()\n",
        "\n",
        "body = body.replace('java', 'python')\n",
        "\n",
        "f = open('file.txt', 'w')\n",
        "f.write(body)\n",
        "print(body)\n",
        "f.close()"
      ],
      "execution_count": 37,
      "outputs": [
        {
          "output_type": "stream",
          "text": [
            "Life is too short you need python\n"
          ],
          "name": "stdout"
        }
      ]
    },
    {
      "cell_type": "code",
      "metadata": {
        "id": "y6rTKr8URCOw",
        "colab_type": "code",
        "colab": {}
      },
      "source": [
        ""
      ],
      "execution_count": 0,
      "outputs": []
    }
  ]
}