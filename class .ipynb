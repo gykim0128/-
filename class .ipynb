{
  "nbformat": 4,
  "nbformat_minor": 0,
  "metadata": {
    "colab": {
      "name": "Untitled6.ipynb",
      "provenance": []
    },
    "kernelspec": {
      "name": "python3",
      "display_name": "Python 3"
    }
  },
  "cells": [
    {
      "cell_type": "code",
      "metadata": {
        "id": "wOi98zht_r-U",
        "colab_type": "code",
        "colab": {}
      },
      "source": [
        "a=\"hello\""
      ],
      "execution_count": 0,
      "outputs": []
    },
    {
      "cell_type": "code",
      "metadata": {
        "id": "MQ4h-HpW_t5I",
        "colab_type": "code",
        "colab": {}
      },
      "source": [
        "b=a"
      ],
      "execution_count": 0,
      "outputs": []
    },
    {
      "cell_type": "code",
      "metadata": {
        "id": "LpmCLHlc_w6u",
        "colab_type": "code",
        "outputId": "ff88ab20-20f6-456a-a5c5-7ccf1ffbe27b",
        "colab": {
          "base_uri": "https://localhost:8080/",
          "height": 35
        }
      },
      "source": [
        "id(a)"
      ],
      "execution_count": 0,
      "outputs": [
        {
          "output_type": "execute_result",
          "data": {
            "text/plain": [
              "139908333343048"
            ]
          },
          "metadata": {
            "tags": []
          },
          "execution_count": 4
        }
      ]
    },
    {
      "cell_type": "code",
      "metadata": {
        "id": "51trNyaD_0qm",
        "colab_type": "code",
        "outputId": "33600dbe-68c5-487b-89de-ca3504c1a713",
        "colab": {
          "base_uri": "https://localhost:8080/",
          "height": 35
        }
      },
      "source": [
        "id(b)"
      ],
      "execution_count": 0,
      "outputs": [
        {
          "output_type": "execute_result",
          "data": {
            "text/plain": [
              "139908333343048"
            ]
          },
          "metadata": {
            "tags": []
          },
          "execution_count": 5
        }
      ]
    },
    {
      "cell_type": "code",
      "metadata": {
        "id": "tyd5yfiL_1jG",
        "colab_type": "code",
        "colab": {}
      },
      "source": [
        "b=\"hi\""
      ],
      "execution_count": 0,
      "outputs": []
    },
    {
      "cell_type": "code",
      "metadata": {
        "id": "6ZN0J0uv_3QX",
        "colab_type": "code",
        "outputId": "c62e5808-21c0-4258-b4ff-c0457e49592c",
        "colab": {
          "base_uri": "https://localhost:8080/",
          "height": 35
        }
      },
      "source": [
        "a"
      ],
      "execution_count": 0,
      "outputs": [
        {
          "output_type": "execute_result",
          "data": {
            "text/plain": [
              "'hello'"
            ]
          },
          "metadata": {
            "tags": []
          },
          "execution_count": 7
        }
      ]
    },
    {
      "cell_type": "code",
      "metadata": {
        "id": "pil6Pzdw_31f",
        "colab_type": "code",
        "outputId": "17a0e732-78b2-473e-f22e-448d51651e7b",
        "colab": {
          "base_uri": "https://localhost:8080/",
          "height": 35
        }
      },
      "source": [
        "id(b)"
      ],
      "execution_count": 0,
      "outputs": [
        {
          "output_type": "execute_result",
          "data": {
            "text/plain": [
              "139908886374248"
            ]
          },
          "metadata": {
            "tags": []
          },
          "execution_count": 8
        }
      ]
    },
    {
      "cell_type": "code",
      "metadata": {
        "id": "VqRQQ0oC_5Rf",
        "colab_type": "code",
        "outputId": "f21dbe04-1fdd-44fb-fa6a-a295e4520266",
        "colab": {
          "base_uri": "https://localhost:8080/",
          "height": 35
        }
      },
      "source": [
        "b"
      ],
      "execution_count": 0,
      "outputs": [
        {
          "output_type": "execute_result",
          "data": {
            "text/plain": [
              "'hi'"
            ]
          },
          "metadata": {
            "tags": []
          },
          "execution_count": 9
        }
      ]
    },
    {
      "cell_type": "code",
      "metadata": {
        "id": "QaVziF9p_6CG",
        "colab_type": "code",
        "colab": {}
      },
      "source": [
        ""
      ],
      "execution_count": 0,
      "outputs": []
    },
    {
      "cell_type": "markdown",
      "metadata": {
        "id": "CSC2uIpk_9R9",
        "colab_type": "text"
      },
      "source": [
        "이런식으로 a를 지정하고 b를 지정하였을 때 교수님께서 말씀하셧듯이 처음에는 a,b두개가 주소가 같았으나 b를 다른것으로 지정하여주면 a는 바뀌지 않고 b의 주소만 다르게 바뀌였음을 알 수 있습니다. 클래스를 떠나서라도 이렇게 주소가 같은 곳으로 할당이 되어있어도 결과값이 바뀔 수 있는 것을 알 수 있었습니다."
      ]
    },
    {
      "cell_type": "code",
      "metadata": {
        "id": "rmAGsrxhAJo9",
        "colab_type": "code",
        "colab": {}
      },
      "source": [
        "c=\"homework\""
      ],
      "execution_count": 0,
      "outputs": []
    },
    {
      "cell_type": "code",
      "metadata": {
        "id": "zOJQnCrpAO_t",
        "colab_type": "code",
        "colab": {}
      },
      "source": [
        "d=c"
      ],
      "execution_count": 0,
      "outputs": []
    },
    {
      "cell_type": "code",
      "metadata": {
        "id": "CudzRPJOAPx1",
        "colab_type": "code",
        "outputId": "fe7974e9-8194-4304-e351-25beb286a0cd",
        "colab": {
          "base_uri": "https://localhost:8080/",
          "height": 35
        }
      },
      "source": [
        "id(c)"
      ],
      "execution_count": 0,
      "outputs": [
        {
          "output_type": "execute_result",
          "data": {
            "text/plain": [
              "139908323972976"
            ]
          },
          "metadata": {
            "tags": []
          },
          "execution_count": 13
        }
      ]
    },
    {
      "cell_type": "code",
      "metadata": {
        "id": "y8ouebx2AScF",
        "colab_type": "code",
        "outputId": "6caf7860-6901-4ddc-ecc8-5aa4d30b5a32",
        "colab": {
          "base_uri": "https://localhost:8080/",
          "height": 35
        }
      },
      "source": [
        "id(d)"
      ],
      "execution_count": 0,
      "outputs": [
        {
          "output_type": "execute_result",
          "data": {
            "text/plain": [
              "139908323972976"
            ]
          },
          "metadata": {
            "tags": []
          },
          "execution_count": 14
        }
      ]
    },
    {
      "cell_type": "code",
      "metadata": {
        "id": "uGEk-Y8nATQG",
        "colab_type": "code",
        "colab": {}
      },
      "source": [
        "c=\"math\""
      ],
      "execution_count": 0,
      "outputs": []
    },
    {
      "cell_type": "code",
      "metadata": {
        "id": "041m5ggKAU6-",
        "colab_type": "code",
        "outputId": "3b1bbcfc-15a8-4f07-9f8d-4d07271a170f",
        "colab": {
          "base_uri": "https://localhost:8080/",
          "height": 35
        }
      },
      "source": [
        "d"
      ],
      "execution_count": 0,
      "outputs": [
        {
          "output_type": "execute_result",
          "data": {
            "text/plain": [
              "'homework'"
            ]
          },
          "metadata": {
            "tags": []
          },
          "execution_count": 16
        }
      ]
    },
    {
      "cell_type": "code",
      "metadata": {
        "id": "OywZSS2iAVqG",
        "colab_type": "code",
        "outputId": "9ce21123-773c-45d0-d0f1-ed8e22b70d5c",
        "colab": {
          "base_uri": "https://localhost:8080/",
          "height": 35
        }
      },
      "source": [
        "id(c)"
      ],
      "execution_count": 0,
      "outputs": [
        {
          "output_type": "execute_result",
          "data": {
            "text/plain": [
              "139908883063896"
            ]
          },
          "metadata": {
            "tags": []
          },
          "execution_count": 17
        }
      ]
    },
    {
      "cell_type": "markdown",
      "metadata": {
        "id": "5QmBTOBnAiTn",
        "colab_type": "text"
      },
      "source": [
        "먼저 지정해 주었던 객체를 바꾸더라도 뒤에 같다고 지정해둔 개체는 바뀌지 않는다는 것을 알 수 있습니다."
      ]
    },
    {
      "cell_type": "markdown",
      "metadata": {
        "id": "HqznauR2BZ41",
        "colab_type": "text"
      },
      "source": [
        "같은 id를 가지고 있어도 하나를 변경하여도 다른 뒤에 것들은 변경 되지 않는다. "
      ]
    },
    {
      "cell_type": "code",
      "metadata": {
        "id": "MXflOQmpP_mG",
        "colab_type": "code",
        "colab": {}
      },
      "source": [
        ""
      ],
      "execution_count": 0,
      "outputs": []
    },
    {
      "cell_type": "markdown",
      "metadata": {
        "id": "LnFwXZrOQRwT",
        "colab_type": "text"
      },
      "source": [
        "둘다 고치는 방법은 찾지를 못했습니다..."
      ]
    }
  ]
}