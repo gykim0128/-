{
  "nbformat": 4,
  "nbformat_minor": 0,
  "metadata": {
    "colab": {
      "name": "chapter 2.ipynb",
      "provenance": [],
      "collapsed_sections": []
    },
    "kernelspec": {
      "name": "python3",
      "display_name": "Python 3"
    }
  },
  "cells": [
    {
      "cell_type": "markdown",
      "metadata": {
        "id": "ELZAzYI8sfwL",
        "colab_type": "text"
      },
      "source": [
        "<h1>Do it! 정직하게 코딩하며 배우는 딥러닝 입문 2장<h1>\n",
        "\n",
        "<p>15108306 김건영<p>\n",
        "<br>\n",
        "\n",
        "\n",
        "#2장 최소한의 도구로 딥러닝을 시작합니다\n",
        "\n",
        "이 장에서는 딥러닝 실습을 위한 준비 단계로 접어들어 코랩에 대하여 설명합니다.\n",
        "\n",
        "\n",
        "> 02-1 구글 코랩을 소개합니다\n",
        "\n",
        "> 02-2 딥러닝을 위한 도구들을 알아봅니다\n",
        "\n",
        "\n",
        "\n",
        "\n",
        "\n"
      ]
    },
    {
      "cell_type": "markdown",
      "metadata": {
        "id": "gV-ugSZOw1UM",
        "colab_type": "text"
      },
      "source": [
        "##02-1 구글 코랩을 소개합니다\n",
        "<br> 이 책은 구글 코랩을 이용하여 실습을 진행\n",
        "<br> \n",
        "###**코랩이란?**\n",
        "코랩은 구글에서 교육과 과학 연구를 목적으로 개발한 도구\n",
        "<br>코랩에서 파이썬(Python)코드를 실행하거나 텍스트를 작성할 수도 있고 그래프를 그릴 수도 있음\n",
        "<br> 코랩은 웹 브라우저를 통해 제어하고 실제 파이썬 코드 실행은 쿠글 클라우드의 가상 서버에서 이루어짐\n",
        "<br><br>\n",
        "###**코랩에 접속해 기본 기능 익히기**\n",
        "\n",
        "\n",
        "####1.   구글 계정으로 로그인하고 코랩 접속하기\n",
        "https://colab.reserarch.google.com/\n",
        "####2.   코랩 노트북과 만나기\n",
        "####3.   텍스트 셀 편집하기\n",
        "코랩에는 텍스트 셀, 코드 셀 두가지가 존재\n",
        "<br>텍스트 셀의 내용을 수정하고 싶다면 마우스로 셀을 더블 클릭하거나 셀을 선택한 상태에서 엔터를 누르면 됨\n",
        "<br>웹브라우저의 좌우 넓이에 따라 마크다운 편집기 영역과 결과화면이 배치됨\n"
      ]
    },
    {
      "cell_type": "markdown",
      "metadata": {
        "id": "UEA-anZge_u-",
        "colab_type": "text"
      },
      "source": [
        ""
      ]
    },
    {
      "cell_type": "markdown",
      "metadata": {
        "id": "hR_NuDsXf1qI",
        "colab_type": "text"
      },
      "source": [
        "####4.   텍스트셀 만들기"
      ]
    },
    {
      "cell_type": "markdown",
      "metadata": {
        "id": "X5Fu7MgrfHtc",
        "colab_type": "text"
      },
      "source": [
        "<h1>나의 첫 번째 Colaboratory 노트북 입니다!<h1>"
      ]
    },
    {
      "cell_type": "markdown",
      "metadata": {
        "id": "gGNLnmLNgBzN",
        "colab_type": "text"
      },
      "source": [
        "####5.   텍스트 셀 추가하기\n",
        "마우스를 텍스트 셀의 아래쪽 경계로 이동시키면 간편하게 텍스트 셀과 코드 셀을 추가 할 수 있음"
      ]
    },
    {
      "cell_type": "markdown",
      "metadata": {
        "id": "0RwhB-qzgVF9",
        "colab_type": "text"
      },
      "source": [
        "####6 코드셀을 추가하고 입력하여 실행시키기\n",
        "코드를 입력한뒤 ctrl+enter을 누르면 실행"
      ]
    },
    {
      "cell_type": "code",
      "metadata": {
        "id": "wZVsPuwpgcKT",
        "colab_type": "code",
        "outputId": "3c52fb9e-0eb0-462f-f0c2-dfe0f50d3a6d",
        "colab": {
          "base_uri": "https://localhost:8080/",
          "height": 35
        }
      },
      "source": [
        "print('Hello, Do it 딥러닝')"
      ],
      "execution_count": 0,
      "outputs": [
        {
          "output_type": "stream",
          "text": [
            "Hello, Do it 딥러닝\n"
          ],
          "name": "stdout"
        }
      ]
    },
    {
      "cell_type": "markdown",
      "metadata": {
        "id": "pNKor70hgyRE",
        "colab_type": "text"
      },
      "source": [
        "###**코랩에서 노트북 관리하기**\n",
        "코랩에서 작성한 노트북은 구글 드라이브에 저장됨\n",
        "####1 구글 드라이브에 노트북 저장하기\n",
        "[파일 > 드라이브에 사본 저장]을 누르면 됨\n",
        "<br><br>\n",
        "####2 저장된 노트북 위치 확인하기\n",
        "[파일>드라이브에서 찾기]를 선택하면 노트북이 저장된 위치를 보여줌\n",
        "\n",
        "####3 구글 드라이브에서 노트북 열기\n",
        "마우스 오른쪽 버튼으로 노트북을 누른뒤 [연결 앱>Colaboratory]를 선택\n",
        "\n",
        "####4 코랩에서 내가 저장한 노트북 열기\n",
        "[파일 > 노트북 열기]메뉴를 이용\n",
        "\n",
        "###**코랩 노트북에서 자주 사용하는 기능 알아보기**\n",
        "####1 셀 삭제하기\n",
        "해당 셀을 마우스로 클릭한뒤  : 를 누른 다음 [셀 삭제]를 선택\n",
        "<br> 단축키 ctrl+M+D\n",
        " <br><br>\n",
        "####2 셀 실행하고 바로 다음 셀로 이동하기\n",
        "실행하고 다음 셀로 이동 단축키 Shift+Enter \n",
        "<br>마지막 셀이라면 더 이동할 셀이 없음으로 현제 셀에 머뭄\n",
        "\n",
        "####3 Ctrl+Enter을 이용하면 실행은 하지만 셀 이동은 없음\n",
        "\n",
        "####4 셀 실행하고 바로 아래에 새 셀 삽입\n",
        "Alt+Enter을 누르면 현재 셀이 실행되고 그 아래에 새로운 셀을 삽입\n",
        "\n",
        "####5 단축키 설정하기\n",
        " 마음대로 추가하거나 변경 가능 [도구>단축키]를 선택하거나 단축키 ctrl+M+H를 눌러 설정 가능\n",
        "\n",
        " ####7 명령 팔레트 사용\n",
        " 내가 원하는 명령이나 단축키가 잘 생각나지 않을 때 사용 [도구>명령 팔레트]를 선택하면 명령 팔레트가 나타남 단축키  ctrl+shift+P 사용\n",
        "\n",
        "\n"
      ]
    },
    {
      "cell_type": "markdown",
      "metadata": {
        "id": "e7JZDfLN5rq_",
        "colab_type": "text"
      },
      "source": [
        "##02-2 딥러닝을 위한 도구들을 알아 봅시다\n",
        "\n",
        "###**넘파이를 소개합니다**\n",
        "\n",
        "넘파이(Numpy)는 파이썬의 핵심 과학 패키지 중 하나 많은 머신러닝과 딥러닝 패키지가 넘파이를 기반으로 구현, 넘파이 인터페이스를 계승\n",
        "\n",
        "####파이썬 리스트 복습하기"
      ]
    },
    {
      "cell_type": "code",
      "metadata": {
        "id": "_aHAs5NyS07h",
        "colab_type": "code",
        "outputId": "f4946f30-3b24-4120-ed25-ce7c6667901f",
        "colab": {
          "base_uri": "https://localhost:8080/",
          "height": 35
        }
      },
      "source": [
        "my_list = [10,'hello list',20]\n",
        "print(my_list)"
      ],
      "execution_count": 0,
      "outputs": [
        {
          "output_type": "stream",
          "text": [
            "[10, 'hello list', 20]\n"
          ],
          "name": "stdout"
        }
      ]
    },
    {
      "cell_type": "code",
      "metadata": {
        "id": "RIOSFZJNwjIQ",
        "colab_type": "code",
        "colab": {}
      },
      "source": [
        "my_list_2 = [[10,20,30],[40,50,60]]"
      ],
      "execution_count": 0,
      "outputs": []
    },
    {
      "cell_type": "code",
      "metadata": {
        "id": "he-yqUpYxxt0",
        "colab_type": "code",
        "outputId": "247859e6-e884-4cbe-e0ca-26d94ba40f5e",
        "colab": {
          "base_uri": "https://localhost:8080/",
          "height": 35
        }
      },
      "source": [
        "print(my_list_2[1][1])"
      ],
      "execution_count": 0,
      "outputs": [
        {
          "output_type": "stream",
          "text": [
            "50\n"
          ],
          "name": "stdout"
        }
      ]
    },
    {
      "cell_type": "markdown",
      "metadata": {
        "id": "CehzdCtWx5UM",
        "colab_type": "text"
      },
      "source": [
        "두번째 행의 두번째 열을 불러왔음으로 50"
      ]
    },
    {
      "cell_type": "markdown",
      "metadata": {
        "id": "XBTDUDuJx8yi",
        "colab_type": "text"
      },
      "source": [
        "###**넘파이를 소개합니다**\n",
        "다차원 배열은 파이썬 리스트로 만들 수 있지만 파이썬 리스트로 만든 배열은 크기가 커질 수록 성능이 떨어짐\n",
        "<br>넘파이는 저수준 언어로 다차원 배열을 구현하기 때문에 배열의 크기가 커져도 높은 성능을 보장, 배열을 이용한 다양한 통계, 수학 함수도 제공 \n",
        "\n",
        "#### 코랩에서 넘파이 불러오고 버전 확인하기\n",
        "넘파이는 코랩에 설치되어 있음으로 명령어를 이용해 간단히 불러오면됨\n",
        "<br>확인을 하기 위해서는 버전을 출력해보면 됨"
      ]
    },
    {
      "cell_type": "code",
      "metadata": {
        "id": "DKYaztu6x2bQ",
        "colab_type": "code",
        "outputId": "4d6dacb8-1395-4655-985a-f774b5d26863",
        "colab": {
          "base_uri": "https://localhost:8080/",
          "height": 35
        }
      },
      "source": [
        "import numpy as np\n",
        "print(np.__version__)"
      ],
      "execution_count": 0,
      "outputs": [
        {
          "output_type": "stream",
          "text": [
            "1.17.3\n"
          ],
          "name": "stdout"
        }
      ]
    },
    {
      "cell_type": "markdown",
      "metadata": {
        "id": "Zg8GHjF87sGT",
        "colab_type": "text"
      },
      "source": [
        "as 뒤에 np를 쓰는 것은 이름이 긴것을 줄이기 위해서 만든 별칭\n",
        "\n",
        "###**넘파이로 배열만들기**\n",
        "넘파이는 파이썬의 리스트와 다르게 숫자와 문자열을 함께 담을 수 없음\n",
        "<br>딥러닝을 이용시에 문자데이터는 숫자로 바꿔서 입력\n",
        "\n",
        "####1.array()함수로 2차원 배열 만들기"
      ]
    },
    {
      "cell_type": "code",
      "metadata": {
        "id": "8K4HLCIU7rGi",
        "colab_type": "code",
        "outputId": "c9316e6f-e834-417f-e0c6-2acc696f8041",
        "colab": {
          "base_uri": "https://localhost:8080/",
          "height": 53
        }
      },
      "source": [
        "my_arr = np.array([[10,20,30],[40,50,60]])\n",
        "print(my_arr)"
      ],
      "execution_count": 0,
      "outputs": [
        {
          "output_type": "stream",
          "text": [
            "[[10 20 30]\n",
            " [40 50 60]]\n"
          ],
          "name": "stdout"
        }
      ]
    },
    {
      "cell_type": "markdown",
      "metadata": {
        "id": "mr77Gb3q8wsg",
        "colab_type": "text"
      },
      "source": [
        "####2 type()함수로 넘파이 배열인지 확인하기\n",
        "파이썬과 형태가 비슷함으로 type()함수를 이용하여 객체의 타입을 확인할 수 있음"
      ]
    },
    {
      "cell_type": "code",
      "metadata": {
        "id": "0bqlj5y88r0y",
        "colab_type": "code",
        "outputId": "4be4649b-793d-4e1f-e5cb-64e8048344fd",
        "colab": {
          "base_uri": "https://localhost:8080/",
          "height": 35
        }
      },
      "source": [
        "type(my_arr)"
      ],
      "execution_count": 0,
      "outputs": [
        {
          "output_type": "execute_result",
          "data": {
            "text/plain": [
              "numpy.ndarray"
            ]
          },
          "metadata": {
            "tags": []
          },
          "execution_count": 9
        }
      ]
    },
    {
      "cell_type": "markdown",
      "metadata": {
        "id": "h8XCp5di8_RE",
        "colab_type": "text"
      },
      "source": [
        "넘파이 배열 요소인 ndarray의 객체이다.\n",
        "\n",
        "####3 넘파이 배열에서 요소 선택하기\n",
        "파이썬 리스트에서 요소를 선택하는 것과 방법이 동일함"
      ]
    },
    {
      "cell_type": "code",
      "metadata": {
        "id": "oHn05p6l89H8",
        "colab_type": "code",
        "outputId": "3a676bcf-b7e7-41ec-c20c-b1414e344425",
        "colab": {
          "base_uri": "https://localhost:8080/",
          "height": 35
        }
      },
      "source": [
        "my_arr[0][2]"
      ],
      "execution_count": 0,
      "outputs": [
        {
          "output_type": "execute_result",
          "data": {
            "text/plain": [
              "30"
            ]
          },
          "metadata": {
            "tags": []
          },
          "execution_count": 10
        }
      ]
    },
    {
      "cell_type": "markdown",
      "metadata": {
        "id": "ErwtWEmn9dJG",
        "colab_type": "text"
      },
      "source": [
        "####4 넘파이 내장 함수 사용하기\n",
        "파이썬에서 리스트 요소의 합을 구하기 위해 for문사용\n",
        "<br>넘파이 이용시 np.sum을 이요하여 요소의 합 구할 수 있음\n",
        "for문보다 실행속도가 매우 빠름"
      ]
    },
    {
      "cell_type": "code",
      "metadata": {
        "id": "iTJKPHxb9bJ1",
        "colab_type": "code",
        "outputId": "78004450-f2ce-4db2-b83b-4a352945eb36",
        "colab": {
          "base_uri": "https://localhost:8080/",
          "height": 35
        }
      },
      "source": [
        "np.sum(my_arr)"
      ],
      "execution_count": 0,
      "outputs": [
        {
          "output_type": "execute_result",
          "data": {
            "text/plain": [
              "210"
            ]
          },
          "metadata": {
            "tags": []
          },
          "execution_count": 12
        }
      ]
    },
    {
      "cell_type": "markdown",
      "metadata": {
        "id": "Hm8PW3R_-L7v",
        "colab_type": "text"
      },
      "source": [
        "###**맷플롯립으로 그래프 그리기**\n",
        "matplotlib : 파이썬 과학 생태계의 표준 그래프 패키지 코랩에 포함되어 있어 바로 사용가능"
      ]
    },
    {
      "cell_type": "code",
      "metadata": {
        "id": "8je15Igk-LHQ",
        "colab_type": "code",
        "colab": {}
      },
      "source": [
        "import matplotlib.pyplot as plt"
      ],
      "execution_count": 0,
      "outputs": []
    },
    {
      "cell_type": "markdown",
      "metadata": {
        "id": "I8APsCBq-k8s",
        "colab_type": "text"
      },
      "source": [
        "이 책에서 x축을 기준으로 y축의 변화 추이를 살표보기 편리한 선 그래프와 산점도를 주로 사용\n",
        "\n",
        "####1 선그래프 그리기\n",
        "x축의 값과 y축의 값을 matplotlib의 plot()함수에 전달 show()함수를 이용하여 화면에 그래프를 출력"
      ]
    },
    {
      "cell_type": "code",
      "metadata": {
        "id": "mYDIQOpU9_EE",
        "colab_type": "code",
        "outputId": "aa195629-8ef2-4b14-d337-bf9b9e64fd43",
        "colab": {
          "base_uri": "https://localhost:8080/",
          "height": 265
        }
      },
      "source": [
        "plt.plot([1,2,3,4,5,],[1,4,9,16,25])\n",
        "plt.show()"
      ],
      "execution_count": 0,
      "outputs": [
        {
          "output_type": "display_data",
          "data": {
            "image/png": "[encoded data removed]",
            "text/plain": [
              "<Figure size 432x288 with 1 Axes>"
            ]
          },
          "metadata": {
            "tags": []
          }
        }
      ]
    },
    {
      "cell_type": "markdown",
      "metadata": {
        "id": "tfurgpI2_QYq",
        "colab_type": "text"
      },
      "source": [
        "####2 산점도 그리기 \n",
        "산점도는 데이터의 x축, y축 값을 이용하여 점으로 그래프를 그린 것"
      ]
    },
    {
      "cell_type": "code",
      "metadata": {
        "id": "ei80ljVv_Jz0",
        "colab_type": "code",
        "outputId": "5c165436-00a8-40ed-91d3-12c693acba83",
        "colab": {
          "base_uri": "https://localhost:8080/",
          "height": 265
        }
      },
      "source": [
        "plt.scatter([1,2,3,4,5],[1,4,9,16,25])\n",
        "plt.show()"
      ],
      "execution_count": 0,
      "outputs": [
        {
          "output_type": "display_data",
          "data": {
            "image/png": "[encoded data removed]",
            "text/plain": [
              "<Figure size 432x288 with 1 Axes>"
            ]
          },
          "metadata": {
            "tags": []
          }
        }
      ]
    },
    {
      "cell_type": "markdown",
      "metadata": {
        "id": "BJb1yj2C_c4X",
        "colab_type": "text"
      },
      "source": [
        "####3 넘파이 배열로 산점도 그리기\n",
        "넘파이의 random.randn()함수 사용하여 표준 정규 분포를 따르는 난수를 만들고 그 값을 이용하여 산점도를 그림"
      ]
    },
    {
      "cell_type": "code",
      "metadata": {
        "id": "7vD8elBf_buM",
        "colab_type": "code",
        "outputId": "ec8622c2-5bb9-4042-8aab-681e337b6489",
        "colab": {
          "base_uri": "https://localhost:8080/",
          "height": 265
        }
      },
      "source": [
        "x=np.random.randn(1000)\n",
        "y=np.random.randn(1000)\n",
        "plt.scatter(x,y)\n",
        "plt.show()"
      ],
      "execution_count": 0,
      "outputs": [
        {
          "output_type": "display_data",
          "data": {
            "image/png": "[encoded data removed]",
            "text/plain": [
              "<Figure size 432x288 with 1 Axes>"
            ]
          },
          "metadata": {
            "tags": []
          }
        }
      ]
    },
    {
      "cell_type": "markdown",
      "metadata": {
        "id": "oig5rM1A_4zY",
        "colab_type": "text"
      },
      "source": [
        "데이터를 시각화하면 직관을 얻기 쉬움 딥러닝에서도 데이터 시각화는 필수 임으로 matplotlib을 자주 사용"
      ]
    }
  ]
}