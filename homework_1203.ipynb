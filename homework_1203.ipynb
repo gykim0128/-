{
  "nbformat": 4,
  "nbformat_minor": 0,
  "metadata": {
    "colab": {
      "name": "homework 1203.ipynb",
      "provenance": [],
      "collapsed_sections": []
    },
    "kernelspec": {
      "name": "python3",
      "display_name": "Python 3"
    }
  },
  "cells": [
    {
      "cell_type": "code",
      "metadata": {
        "id": "-QH_s1AZoH7H",
        "colab_type": "code",
        "outputId": "51f4aec3-80d2-4ba0-d963-cfd7e2d0b78a",
        "colab": {
          "base_uri": "https://localhost:8080/",
          "height": 107
        }
      },
      "source": [
        "try:\n",
        "\n",
        "    %tensorflow_version 2.x  # %tensorflow_version only exists in Colab\n",
        "\n",
        "except Exception:\n",
        "\n",
        "    pass\n"
      ],
      "execution_count": 50,
      "outputs": [
        {
          "output_type": "stream",
          "text": [
            "`%tensorflow_version` only switches the major version: `1.x` or `2.x`.\n",
            "You set: `2.x  # %tensorflow_version only exists in Colab`. This will be interpreted as: `2.x`.\n",
            "\n",
            "\n",
            "TensorFlow is already loaded. Please restart the runtime to change versions.\n"
          ],
          "name": "stdout"
        }
      ]
    },
    {
      "cell_type": "code",
      "metadata": {
        "id": "RIxJsPZzpgaV",
        "colab_type": "code",
        "colab": {}
      },
      "source": [
        "from tensorflow.keras.models import Sequential\n",
        "from tensorflow.keras.layers import Embedding\n",
        "from tensorflow.keras.layers import Dense, SimpleRNN\n",
        "from tensorflow.keras.datasets import imdb\n",
        "import numpy as np\n",
        "from tensorflow.keras.preprocessing import sequence\n",
        "import matplotlib.pyplot as plt\n",
        "from tensorflow.keras.layers import LSTM\n"
      ],
      "execution_count": 0,
      "outputs": []
    },
    {
      "cell_type": "code",
      "metadata": {
        "id": "5nSzZlDEogqg",
        "colab_type": "code",
        "outputId": "d3251479-c9d5-4e7f-e9de-81104b747523",
        "colab": {
          "base_uri": "https://localhost:8080/",
          "height": 305
        }
      },
      "source": [
        "model_lstm = Sequential()\n",
        "\n",
        "model_lstm.add(Embedding(1000, 32))\n",
        "model_lstm.add(LSTM(8, return_sequences=True))\n",
        "model_lstm.add(LSTM(8))\n",
        "model_lstm.add(Dense(1, activation='sigmoid'))\n",
        "\n",
        "model_lstm.summary( )"
      ],
      "execution_count": 60,
      "outputs": [
        {
          "output_type": "stream",
          "text": [
            "Model: \"sequential_1\"\n",
            "_________________________________________________________________\n",
            "Layer (type)                 Output Shape              Param #   \n",
            "=================================================================\n",
            "embedding_1 (Embedding)      (None, None, 32)          32000     \n",
            "_________________________________________________________________\n",
            "lstm_1 (LSTM)                (None, None, 8)           1312      \n",
            "_________________________________________________________________\n",
            "lstm_2 (LSTM)                (None, 8)                 544       \n",
            "_________________________________________________________________\n",
            "dense_1 (Dense)              (None, 1)                 9         \n",
            "=================================================================\n",
            "Total params: 33,865\n",
            "Trainable params: 33,865\n",
            "Non-trainable params: 0\n",
            "_________________________________________________________________\n"
          ],
          "name": "stdout"
        }
      ]
    },
    {
      "cell_type": "code",
      "metadata": {
        "id": "XOkv8rl1wQH6",
        "colab_type": "code",
        "colab": {}
      },
      "source": [
        "(x_train_all, y_train_all), (x_test, y_test) = imdb.load_data(skip_top=20, num_words=1000)\n",
        "random_index = np.random.permutation(25000)\n",
        "for i in range(len(x_train_all)):\n",
        "  x_train_all[i] = [w for w in x_train_all[i] if w > 2]\n",
        "\n",
        "x_train = x_train_all[random_index[:20000]]\n",
        "y_train = y_train_all[random_index[:20000]]\n",
        "x_val = x_train_all[random_index[20000:]]\n",
        "y_val = y_train_all[random_index[20000:]]"
      ],
      "execution_count": 0,
      "outputs": []
    },
    {
      "cell_type": "code",
      "metadata": {
        "id": "L5ymfHMEyD98",
        "colab_type": "code",
        "colab": {}
      },
      "source": [
        "maxlen=100\n",
        "x_train_seq = sequence.pad_sequences(x_train, maxlen=maxlen)\n",
        "x_val_seq = sequence.pad_sequences(x_val, maxlen=maxlen)"
      ],
      "execution_count": 0,
      "outputs": []
    },
    {
      "cell_type": "code",
      "metadata": {
        "id": "irwk5n99pSeG",
        "colab_type": "code",
        "outputId": "b11a5f44-a3ea-47d0-eea2-567cc83dd15b",
        "colab": {
          "base_uri": "https://localhost:8080/",
          "height": 395
        }
      },
      "source": [
        "model_lstm.compile(optimizer='adam', loss='binary_crossentropy', metrics=['accuracy'])\n",
        "\n",
        "history = model_lstm.fit(x_train_seq, y_train, epochs=10, batch_size=32, validation_data=(x_val_seq, y_val))"
      ],
      "execution_count": 61,
      "outputs": [
        {
          "output_type": "stream",
          "text": [
            "Train on 20000 samples, validate on 5000 samples\n",
            "Epoch 1/10\n",
            "20000/20000 [==============================] - 50s 3ms/sample - loss: 0.4623 - accuracy: 0.7850 - val_loss: 0.3781 - val_accuracy: 0.8352\n",
            "Epoch 2/10\n",
            "20000/20000 [==============================] - 45s 2ms/sample - loss: 0.3419 - accuracy: 0.8579 - val_loss: 0.3462 - val_accuracy: 0.8496\n",
            "Epoch 3/10\n",
            "20000/20000 [==============================] - 46s 2ms/sample - loss: 0.3184 - accuracy: 0.8673 - val_loss: 0.3597 - val_accuracy: 0.8460\n",
            "Epoch 4/10\n",
            "20000/20000 [==============================] - 47s 2ms/sample - loss: 0.2981 - accuracy: 0.8758 - val_loss: 0.3571 - val_accuracy: 0.8518\n",
            "Epoch 5/10\n",
            "20000/20000 [==============================] - 44s 2ms/sample - loss: 0.2842 - accuracy: 0.8816 - val_loss: 0.3601 - val_accuracy: 0.8394\n",
            "Epoch 6/10\n",
            "20000/20000 [==============================] - 47s 2ms/sample - loss: 0.2692 - accuracy: 0.8878 - val_loss: 0.3812 - val_accuracy: 0.8422\n",
            "Epoch 7/10\n",
            "20000/20000 [==============================] - 47s 2ms/sample - loss: 0.2532 - accuracy: 0.8959 - val_loss: 0.3963 - val_accuracy: 0.8412\n",
            "Epoch 8/10\n",
            "20000/20000 [==============================] - 45s 2ms/sample - loss: 0.2405 - accuracy: 0.9009 - val_loss: 0.4013 - val_accuracy: 0.8324\n",
            "Epoch 9/10\n",
            "20000/20000 [==============================] - 46s 2ms/sample - loss: 0.2281 - accuracy: 0.9079 - val_loss: 0.4105 - val_accuracy: 0.8310\n",
            "Epoch 10/10\n",
            "20000/20000 [==============================] - 46s 2ms/sample - loss: 0.2173 - accuracy: 0.9129 - val_loss: 0.4233 - val_accuracy: 0.8296\n"
          ],
          "name": "stdout"
        }
      ]
    },
    {
      "cell_type": "code",
      "metadata": {
        "id": "SqlAfTlR0Q8i",
        "colab_type": "code",
        "outputId": "9f5c244d-af91-41f0-e15e-7d9befc579b6",
        "colab": {
          "base_uri": "https://localhost:8080/",
          "height": 265
        }
      },
      "source": [
        "plt.plot(history.history['loss'])\n",
        "plt.plot(history.history['val_loss'])\n",
        "plt.show()"
      ],
      "execution_count": 62,
      "outputs": [
        {
          "output_type": "display_data",
          "data": {
            "image/png": "[encoded data removed]",
            "text/plain": [
              "<Figure size 432x288 with 1 Axes>"
            ]
          },
          "metadata": {
            "tags": []
          }
        }
      ]
    },
    {
      "cell_type": "code",
      "metadata": {
        "id": "DX3nvxX40vRx",
        "colab_type": "code",
        "outputId": "8649c039-840a-43c6-d8fd-a93c7c435e04",
        "colab": {
          "base_uri": "https://localhost:8080/",
          "height": 35
        }
      },
      "source": [
        "loss, accuracy = model_lstm.evaluate(x_val_seq, y_val, verbose=0)\n",
        "print(accuracy)"
      ],
      "execution_count": 63,
      "outputs": [
        {
          "output_type": "stream",
          "text": [
            "0.8296\n"
          ],
          "name": "stdout"
        }
      ]
    }
  ]
}